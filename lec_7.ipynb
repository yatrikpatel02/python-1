{
 "cells": [
  {
   "cell_type": "code",
   "execution_count": 8,
   "metadata": {},
   "outputs": [
    {
     "name": "stdout",
     "output_type": "stream",
     "text": [
      "enter no of rows: 5\n",
      "  5 4 3 2 1 \n",
      "    4 3 2 1 \n",
      "      3 2 1 \n",
      "        2 1 \n",
      "          1 \n"
     ]
    }
   ],
   "source": [
    "\"\"\"\n",
    "5 4 3 2 1\n",
    "  4 3 2 1\n",
    "    3 2 1\n",
    "      2 1\n",
    "        1\n",
    "\"\"\"\n",
    "n=int(input(\"enter no of rows: \"))\n",
    "for i in range(1,n+1):\n",
    "    for j in range(1,i+1):\n",
    "        print(\" \",end=\" \")\n",
    "    for j in range(i,n+1):\n",
    "        print(n-j+1,end=\" \")\n",
    "    print()  "
   ]
  },
  {
   "cell_type": "code",
   "execution_count": 9,
   "metadata": {},
   "outputs": [
    {
     "name": "stdout",
     "output_type": "stream",
     "text": [
      "Enter total no of values: 10\n",
      "Enter Value: 1\n",
      "Enter Value: 2\n",
      "Enter Value: 3\n",
      "Enter Value: 4\n",
      "Enter Value: 5\n",
      "Enter Value: 2\n",
      "Enter Value: 2\n",
      "Enter Value: 1\n",
      "Enter Value: 0\n",
      "Enter Value: 0\n",
      "total even numbers are  6\n",
      "total odd numbers are  4\n",
      "sum of odd numbers =  10\n",
      "sum of even numbers =  10\n"
     ]
    }
   ],
   "source": [
    "#wap to count total odd and even numbers and also do the sum of them. take a input n from user fot the total numbers\n",
    "n=int(input(\"Enter total no of values: \"))\n",
    "oddsum=0\n",
    "countodd=0\n",
    "counteven=0\n",
    "evensum=0\n",
    "for i in range(0,n):\n",
    "    x=int(input(\"Enter Value: \"))\n",
    "    if(x%2==0):\n",
    "        evensum=evensum+x\n",
    "        counteven=counteven+1\n",
    "    else:\n",
    "        oddsum=oddsum+x\n",
    "        countodd=countodd+1\n",
    "print(\"total even numbers are \",counteven)  \n",
    "print(\"total odd numbers are \",countodd)\n",
    "print(\"sum of odd numbers = \",oddsum)\n",
    "print(\"sum of even numbers = \",evensum)\n",
    "        \n",
    "    "
   ]
  },
  {
   "cell_type": "code",
   "execution_count": 27,
   "metadata": {},
   "outputs": [
    {
     "name": "stdout",
     "output_type": "stream",
     "text": [
      "Enter a number: 123456879\n",
      "945\n"
     ]
    }
   ],
   "source": [
    "#wap to compute the product of the odd digits in a given number or zero if there are not any odd numbers\n",
    "x=int(input(\"Enter a number: \"))\n",
    "a=str(x)\n",
    "multi=1\n",
    "count=0\n",
    "while x!=0:\n",
    "    y=x%10\n",
    "    if y%2!=0:\n",
    "        multi=multi*y\n",
    "        count+=1\n",
    "    x=x//10 \n",
    "if count==0:\n",
    "    print(count)\n",
    "else:\n",
    "    print(multi)"
   ]
  },
  {
   "cell_type": "code",
   "execution_count": 33,
   "metadata": {},
   "outputs": [
    {
     "name": "stdout",
     "output_type": "stream",
     "text": [
      "Enter value: 24\n",
      "not a disarium\n"
     ]
    }
   ],
   "source": [
    "#wap to check whether the number is disarium or not\n",
    "x=int(input(\"Enter value: \"))\n",
    "sum=0\n",
    "l=str(x)\n",
    "\n",
    "temp=x\n",
    "pow=len(l)\n",
    "while x!=0:\n",
    "    y=x%10\n",
    "    sum=sum+(y**pow)\n",
    "    pow=pow-1\n",
    "    x=x//10\n",
    "if sum==temp:\n",
    "    print(\"disarium\")\n",
    "else:\n",
    "    print(\"not a disarium\")"
   ]
  },
  {
   "cell_type": "code",
   "execution_count": 34,
   "metadata": {},
   "outputs": [
    {
     "name": "stdout",
     "output_type": "stream",
     "text": [
      "Hello  yatrik  good morning!\n"
     ]
    }
   ],
   "source": [
    "def wish(name):\n",
    "    print(\"Hello \",name,\" good morning!\")\n",
    "wish(\"yatrik\")    "
   ]
  },
  {
   "cell_type": "code",
   "execution_count": 1,
   "metadata": {},
   "outputs": [
    {
     "name": "stdout",
     "output_type": "stream",
     "text": [
      "1\n",
      "3\n",
      "5\n",
      "7\n",
      "9\n"
     ]
    }
   ],
   "source": [
    "#waf to accept n entry odd numbers from 1 to n\n",
    "def printodd(x):\n",
    "    for i in range(0,x):\n",
    "        if(i%2!=0):\n",
    "            print(i)\n",
    "printodd(10)            "
   ]
  },
  {
   "cell_type": "code",
   "execution_count": 3,
   "metadata": {},
   "outputs": [
    {
     "name": "stdout",
     "output_type": "stream",
     "text": [
      "None\n",
      "None\n"
     ]
    }
   ],
   "source": [
    "def add(x,y):\n",
    "    return x+y\n",
    "result=add(10,20)\n",
    "print(result)\n",
    "print(add(20,30))"
   ]
  },
  {
   "cell_type": "code",
   "execution_count": 6,
   "metadata": {},
   "outputs": [
    {
     "name": "stdout",
     "output_type": "stream",
     "text": [
      "\n",
      "(70, -10)\n"
     ]
    }
   ],
   "source": [
    "def sum_sub(a,b):\n",
    "    sum=a+b\n",
    "    sub=a-b\n",
    "    return sum,sub\n",
    "x,y=sum_sub(30,40)\n",
    "print(x)\n",
    "print(y)"
   ]
  },
  {
   "cell_type": "code",
   "execution_count": 7,
   "metadata": {},
   "outputs": [],
   "source": [
    "import math"
   ]
  },
  {
   "cell_type": "code",
   "execution_count": 8,
   "metadata": {},
   "outputs": [
    {
     "data": {
      "text/plain": [
       "<function math.sqrt(x, /)>"
      ]
     },
     "execution_count": 8,
     "metadata": {},
     "output_type": "execute_result"
    }
   ],
   "source": [
    "#Docstring\n",
    "math.sqrt"
   ]
  },
  {
   "cell_type": "markdown",
   "metadata": {},
   "source": [
    "**Docstring**"
   ]
  },
  {
   "cell_type": "code",
   "execution_count": 5,
   "metadata": {},
   "outputs": [
    {
     "name": "stdout",
     "output_type": "stream",
     "text": [
      "25\n",
      "\n",
      "    Argument passed into x returns \n",
      "    square of x\n",
      "    \n"
     ]
    }
   ],
   "source": [
    "#Docstring\n",
    "def squared_number(x):\n",
    "    \"\"\"\n",
    "    Argument passed into x returns \n",
    "    square of x\n",
    "    \"\"\"\n",
    "    return x*x\n",
    "t=squared_number(5)\n",
    "print(t)\n",
    "print(squared_number.__doc__)"
   ]
  },
  {
   "cell_type": "code",
   "execution_count": 6,
   "metadata": {},
   "outputs": [
    {
     "name": "stdout",
     "output_type": "stream",
     "text": [
      "the sum is:  60\n",
      "the sum is:  30\n"
     ]
    }
   ],
   "source": [
    "def sum(*n):\n",
    "    total=0\n",
    "    for n1 in n:\n",
    "        total+=n1\n",
    "    print(\"the sum is: \",total)\n",
    "sum(10,20,30)\n",
    "sum(10,20)"
   ]
  },
  {
   "cell_type": "code",
   "execution_count": 7,
   "metadata": {},
   "outputs": [
    {
     "name": "stdout",
     "output_type": "stream",
     "text": [
      "10\n",
      "10\n",
      "20\n",
      "30\n",
      "40\n",
      "10\n",
      "A\n",
      "B\n",
      "C\n",
      "D\n"
     ]
    }
   ],
   "source": [
    "def f1(n1,*s):\n",
    "    print(n1)\n",
    "    for i in s:\n",
    "        print(i)\n",
    "f1(10)\n",
    "f1(10,20,30,40)\n",
    "f1(10,\"A\",\"B\",\"C\",\"D\")"
   ]
  },
  {
   "cell_type": "code",
   "execution_count": null,
   "metadata": {},
   "outputs": [],
   "source": []
  }
 ],
 "metadata": {
  "kernelspec": {
   "display_name": "Python 3",
   "language": "python",
   "name": "python3"
  },
  "language_info": {
   "codemirror_mode": {
    "name": "ipython",
    "version": 3
   },
   "file_extension": ".py",
   "mimetype": "text/x-python",
   "name": "python",
   "nbconvert_exporter": "python",
   "pygments_lexer": "ipython3",
   "version": "3.8.5"
  }
 },
 "nbformat": 4,
 "nbformat_minor": 4
}
