{
 "cells": [
  {
   "cell_type": "code",
   "execution_count": 1,
   "metadata": {
    "collapsed": true
   },
   "outputs": [
    {
     "name": "stdout",
     "output_type": "stream",
     "text": [
      "Enter total no of fibbinaci numbers to print: 9\n",
      "0\n",
      "1\n",
      "1\n",
      "2\n",
      "3\n",
      "5\n",
      "8\n",
      "13\n",
      "21\n"
     ]
    }
   ],
   "source": [
    "# wap to print fibbonaci series upto n numbers\n",
    "n=int(input(\"Enter total no of fibbinaci numbers to print: \"))\n",
    "a=0\n",
    "b=1\n",
    "if n==1:\n",
    "    print(a)\n",
    "elif n==2:\n",
    "    print(b)\n",
    "else:\n",
    "    print(a)\n",
    "    print(b)\n",
    "    n=n-2\n",
    "    while n!=0:\n",
    "        c=a+b\n",
    "        print(c)\n",
    "        a=b\n",
    "        b=c\n",
    "        n=n-1"
   ]
  },
  {
   "cell_type": "code",
   "execution_count": 15,
   "metadata": {},
   "outputs": [
    {
     "name": "stdout",
     "output_type": "stream",
     "text": [
      "Enter Grade: b\n",
      "Enter city class: 2\n",
      "monthly income =  87200.0\n",
      "yearly income =  1046400.0\n",
      "Total tax =  84280.0\n",
      "Total income (inclusive of all taxes) =  962120.0\n"
     ]
    }
   ],
   "source": [
    "grade=input(\"Enter Grade: \")\n",
    "cityClass=input(\"Enter city class: \")\n",
    "grossPay=0\n",
    "basicPay=0\n",
    "otherAllow=0\n",
    "HRA=0\n",
    "ProffTax=200\n",
    "DA=0\n",
    "EPF=0\n",
    "TA=900\n",
    "if grade=='a' or grade==\"a\":\n",
    "    basicPay=60000\n",
    "    DA=0.5*basicPay\n",
    "    EPF=0.11*basicPay\n",
    "    otherAllow=8000\n",
    "elif grade=='b' or grade==\"B\":\n",
    "    basicPay=50000\n",
    "    DA=0.5*basicPay\n",
    "    EPF=0.11*basicPay\n",
    "    otherAllow=7000\n",
    "elif grade=='b' or grade==\"B\":\n",
    "    basicPay=40000\n",
    "    DA=0.5*basicPay\n",
    "    EPF=0.11*basicPay\n",
    "    otherAllow=6000\n",
    "elif grade=='c' or grade==\"C\":\n",
    "    basicPay=30000\n",
    "    DA=0.5*basicPay\n",
    "    EPF=0.11*basicPay\n",
    "    otherAllow=5000\n",
    "elif grade=='d' or grade==\"D\":\n",
    "    basicPay=20000\n",
    "    DA=0.5*basicPay\n",
    "    EPF=0.11*basicPay\n",
    "    otherAllow=4000\n",
    "elif grade=='e' or grade==\"E\":\n",
    "    basicPay=10000\n",
    "    DA=0.5*basicPay\n",
    "    EPF=0.11*basicPay\n",
    "    otherAllow=3000\n",
    "else:\n",
    "    print(\"Invalid Data!\")\n",
    "    \n",
    "if  cityClass==\"1\":\n",
    "    HRA=0.3*basicPay\n",
    "elif cityClass==\"2\":\n",
    "    HRA=0.2*basicPay\n",
    "elif cityClass==\"3\":\n",
    "    HRA=0.1*basicPay\n",
    "grossPay=basicPay+HRA+DA+otherAllow+TA-ProffTax-EPF  \n",
    "yearly=grossPay*12\n",
    "val=yearly\n",
    "tax=0\n",
    "total=0\n",
    "amount=0\n",
    "if val<=250000:\n",
    "    tax=0\n",
    "    total=tax\n",
    "elif val>250000 and val<=500000:\n",
    "    amount=val-250000\n",
    "    tax=0.05*amount\n",
    "    total=tax\n",
    "elif val>500000 and val<=750000:\n",
    "    amount=val-500000\n",
    "    tax=(0.1*amount)+12500\n",
    "elif val>750000 and val<=1000000:\n",
    "    amount=val-750000\n",
    "    tax=(0.15*amount)+37500\n",
    "elif val>1000000 and val<=1250000:\n",
    "    amount=val-1000000\n",
    "    tax=(0.2*amount)+75000\n",
    "elif val>1250000 and val<=1600000:\n",
    "    amount=val-1250000\n",
    "    tax=(0.25*amount)+125000 \n",
    "else:\n",
    "    amount=val-1600000\n",
    "    tax=(0.3*amount)+187000\n",
    "final=yearly-tax    \n",
    "print(\"monthly income = \",grossPay)\n",
    "print(\"yearly income = \",yearly)    \n",
    "print(\"Total tax = \",tax) \n",
    "print(\"Total income (inclusive of all taxes) = \",final)\n"
   ]
  },
  {
   "cell_type": "markdown",
   "metadata": {},
   "source": [
    "**PATTERN**"
   ]
  },
  {
   "cell_type": "code",
   "execution_count": 16,
   "metadata": {},
   "outputs": [
    {
     "name": "stdout",
     "output_type": "stream",
     "text": [
      "enter no of rows: 5\n",
      "* \n",
      "* * \n",
      "* * * \n",
      "* * * * \n",
      "* * * * * \n"
     ]
    }
   ],
   "source": [
    "\"\"\"\n",
    "*\n",
    "* *\n",
    "* * *\n",
    "* * * *\n",
    "* * * * *\n",
    "\"\"\"\n",
    "n=int(input(\"enter no of rows: \"))\n",
    "for i in range(1,n+1):\n",
    "    for j in range(1,i+1):\n",
    "        print(\"*\",end=\" \")\n",
    "    print()    "
   ]
  },
  {
   "cell_type": "code",
   "execution_count": 19,
   "metadata": {},
   "outputs": [
    {
     "name": "stdout",
     "output_type": "stream",
     "text": [
      "enter no of rows: 5\n",
      "* * * * * \n",
      "* * * * \n",
      "* * * \n",
      "* * \n",
      "* \n"
     ]
    }
   ],
   "source": [
    "\"\"\"\n",
    "* * * * *\n",
    "* * * *\n",
    "* * *\n",
    "* *\n",
    "*\n",
    "\"\"\"\n",
    "n=int(input(\"enter no of rows: \"))\n",
    "for i in range(n,0,-1):\n",
    "    for j in range(1,i+1):\n",
    "        print(\"*\",end=\" \")\n",
    "    print()    "
   ]
  },
  {
   "cell_type": "code",
   "execution_count": 25,
   "metadata": {},
   "outputs": [
    {
     "name": "stdout",
     "output_type": "stream",
     "text": [
      "enter no of rows: 5\n",
      "          \n",
      "        * \n",
      "      * * \n",
      "    * * * \n",
      "  * * * * \n",
      "* * * * * \n"
     ]
    }
   ],
   "source": [
    "\"\"\"\n",
    "        *\n",
    "      * *\n",
    "    * * *\n",
    "  * * * *\n",
    "* * * * * \n",
    "\"\"\"\n",
    "n=int(input(\"enter no of rows: \"))\n",
    "for i in range(n,-1,-1):\n",
    "    for j in range(1,i+1):\n",
    "        print(\" \",end=\" \")\n",
    "    for j in range(1,n+1-i):\n",
    "        print(\"*\",end=\" \")\n",
    "    print()    "
   ]
  },
  {
   "cell_type": "code",
   "execution_count": 26,
   "metadata": {},
   "outputs": [
    {
     "name": "stdout",
     "output_type": "stream",
     "text": [
      "enter no of rows: 5\n",
      "1 \n",
      "0 1 \n",
      "1 0 1 \n",
      "0 1 0 1 \n",
      "1 0 1 0 1 \n"
     ]
    }
   ],
   "source": [
    "\"\"\"\n",
    "1\n",
    "0 1\n",
    "1 0 1\n",
    "0 1 0 1\n",
    "1 0 1 0 1\n",
    "\"\"\"\n",
    "n=int(input(\"enter no of rows: \"))\n",
    "for i in range(1,n+1):\n",
    "    for j in range(1,i+1):\n",
    "        if (i+j)%2==0:\n",
    "            print(\"1\",end=\" \")\n",
    "        else:\n",
    "            print(\"0\",end=\" \")\n",
    "    print()    "
   ]
  },
  {
   "cell_type": "code",
   "execution_count": 27,
   "metadata": {},
   "outputs": [
    {
     "name": "stdout",
     "output_type": "stream",
     "text": [
      "enter no of rows: 5\n",
      "* \n",
      "# # \n",
      "* * * \n",
      "# # # # \n",
      "* * * * * \n"
     ]
    }
   ],
   "source": [
    "\"\"\"\n",
    "*\n",
    "# # \n",
    "* * *\n",
    "# # # #\n",
    "* * * * *\n",
    "\"\"\"\n",
    "n=int(input(\"enter no of rows: \"))\n",
    "for i in range(1,n+1):\n",
    "    for j in range(1,i+1):\n",
    "        if i%2==0:\n",
    "            print(\"#\",end=\" \")\n",
    "        else:\n",
    "            print(\"*\",end=\" \")\n",
    "    print()    "
   ]
  },
  {
   "cell_type": "code",
   "execution_count": 28,
   "metadata": {},
   "outputs": [
    {
     "name": "stdout",
     "output_type": "stream",
     "text": [
      "enter no of rows: 5\n",
      "* * * * * \n",
      "  * * * * \n",
      "    * * * \n",
      "      * * \n",
      "        * \n"
     ]
    }
   ],
   "source": [
    "\"\"\"\n",
    "* * * * *\n",
    "  * * * *\n",
    "    * * *\n",
    "      * *\n",
    "        *\n",
    "\"\"\"\n",
    "n=int(input(\"enter no of rows: \"))\n",
    "for i in range(0,n):\n",
    "    for j in range(1,i+1):\n",
    "        print(\" \",end=\" \")\n",
    "    for j in range(1,n+1-i):\n",
    "        print(\"*\",end=\" \")\n",
    "    print()    "
   ]
  },
  {
   "cell_type": "code",
   "execution_count": 29,
   "metadata": {},
   "outputs": [
    {
     "name": "stdout",
     "output_type": "stream",
     "text": [
      "enter no of rows: 5\n",
      "          * \n",
      "        * * * \n",
      "      * * * * * \n",
      "    * * * * * * * \n",
      "  * * * * * * * * * \n",
      "* * * * * * * * * * * \n",
      "  * * * * * * * * * \n",
      "    * * * * * * * \n",
      "      * * * * * \n",
      "        * * * \n",
      "          * \n"
     ]
    }
   ],
   "source": [
    "\"\"\"\n",
    "        *\n",
    "      * * *\n",
    "    * * * * *\n",
    "  * * * * * * *\n",
    "* * * * * * * * *\n",
    "  * * * * * * *\n",
    "    * * * * *\n",
    "      * * *\n",
    "        *\n",
    "\"\"\"\n",
    "n=int(input(\"enter no of rows: \"))\n",
    "for i in range(0,n):\n",
    "    for j in range(1,n-i+1):\n",
    "        print(\" \",end=\" \")\n",
    "    for j in range(0,i+1):\n",
    "        print(\"*\",end=\" \")\n",
    "    for j in range(1,i+1):\n",
    "        print(\"*\",end=\" \")\n",
    "    print()\n",
    "for i in range(n,-1,-1):\n",
    "    for j in range(1,n-i+1):\n",
    "        print(\" \",end=\" \")\n",
    "    for j in range(0,i+1):\n",
    "        print(\"*\",end=\" \")\n",
    "    for j in range(1,i+1):\n",
    "        print(\"*\",end=\" \")    \n",
    "    print()        "
   ]
  },
  {
   "cell_type": "code",
   "execution_count": null,
   "metadata": {},
   "outputs": [],
   "source": []
  }
 ],
 "metadata": {
  "kernelspec": {
   "display_name": "Python 3",
   "language": "python",
   "name": "python3"
  },
  "language_info": {
   "codemirror_mode": {
    "name": "ipython",
    "version": 3
   },
   "file_extension": ".py",
   "mimetype": "text/x-python",
   "name": "python",
   "nbconvert_exporter": "python",
   "pygments_lexer": "ipython3",
   "version": "3.8.5"
  }
 },
 "nbformat": 4,
 "nbformat_minor": 4
}
