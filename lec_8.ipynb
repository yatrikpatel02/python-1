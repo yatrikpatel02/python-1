{
 "cells": [
  {
   "cell_type": "markdown",
   "metadata": {},
   "source": [
    "**functions**\n",
    "\n"
   ]
  },
  {
   "cell_type": "code",
   "execution_count": 3,
   "metadata": {},
   "outputs": [
    {
     "name": "stdout",
     "output_type": "stream",
     "text": [
      "m1 = 100\n",
      "m2 = 200\n",
      "m3 = 300\n",
      "rollno = 10\n",
      "name = Arman\n",
      "subject = python\n",
      "marks = 88\n",
      "rollno = 10\n"
     ]
    }
   ],
   "source": [
    "def display(**kwargs):                  #kwargs(keyword arguments)\n",
    "    for k,v in kwargs.items():\n",
    "        print(k,\"=\",v)\n",
    "display(m1=100,m2=200,m3=300)        \n",
    "display(rollno=10,name=\"Arman\",subject=\"python\", marks=88)\n",
    "display(rollno=10)   "
   ]
  },
  {
   "cell_type": "code",
   "execution_count": 4,
   "metadata": {},
   "outputs": [
    {
     "name": "stdout",
     "output_type": "stream",
     "text": [
      "this is outer function\n",
      "this is inner function\n"
     ]
    }
   ],
   "source": [
    "#nested function\n",
    "def outer():\n",
    "    print(\"this is outer function\")\n",
    "    def inner():\n",
    "        print(\"this is inner function\")\n",
    "    inner()    \n",
    "outer()     "
   ]
  },
  {
   "cell_type": "code",
   "execution_count": 5,
   "metadata": {},
   "outputs": [
    {
     "name": "stdout",
     "output_type": "stream",
     "text": [
      "54\n",
      "45\n"
     ]
    }
   ],
   "source": [
    "\n",
    "def fun1():\n",
    "    a=45\n",
    "    def fun2():\n",
    "        a=54\n",
    "        print(a)\n",
    "    fun2()\n",
    "    print(a)\n",
    "fun1()   "
   ]
  },
  {
   "cell_type": "code",
   "execution_count": 6,
   "metadata": {},
   "outputs": [
    {
     "name": "stdout",
     "output_type": "stream",
     "text": [
      "0\n",
      "1\n",
      "2\n"
     ]
    }
   ],
   "source": [
    "#loop with else\n",
    "for i in range(5):\n",
    "    if i==3:\n",
    "        break\n",
    "    print(i)\n",
    "else:\n",
    "    print(\"hello world\")\n",
    "\n"
   ]
  },
  {
   "cell_type": "code",
   "execution_count": 12,
   "metadata": {},
   "outputs": [
    {
     "name": "stdout",
     "output_type": "stream",
     "text": [
      "Enter number: 20\n",
      "harshad number\n"
     ]
    }
   ],
   "source": [
    "#wap to check whether the given number is harshad or not\n",
    "x=int(input(\"Enter number: \"))\n",
    "a=x\n",
    "y=str(x)\n",
    "div=0\n",
    "while x!=0:\n",
    "    temp=x%10\n",
    "    div=div+temp\n",
    "    x=x//10\n",
    "if a%div==0:\n",
    "    print(\"harshad number\")\n",
    "else:\n",
    "    print(\"not a harshad number\")"
   ]
  },
  {
   "cell_type": "code",
   "execution_count": 3,
   "metadata": {},
   "outputs": [
    {
     "name": "stdout",
     "output_type": "stream",
     "text": [
      "Enter a single digit number: 1\n"
     ]
    }
   ],
   "source": [
    "#wap that accept single digit integer number and produces all possibles 6 digit no for which the product of thier digits is equal to the entered number\n",
    "x=int(input(\"Enter a single digit number: \"))\n",
    "if x>9 or x<=0:\n",
    "    print(\"Enter a valid number\")\n",
    "else:\n",
    "    val=1\n",
    "    for i in range(100000,999999):\n",
    "        z=i\n",
    "        while z!=0:\n",
    "            temp=z%10\n",
    "            val=val*temp\n",
    "            z=z//10   \n",
    "        if(val==x):\n",
    "            print(val)    \n",
    "            "
   ]
  },
  {
   "cell_type": "code",
   "execution_count": 21,
   "metadata": {},
   "outputs": [
    {
     "name": "stdout",
     "output_type": "stream",
     "text": [
      "Enter year: 2025\n",
      "Enter month: 12\n",
      "Enter Date: 31\n",
      "Date:  1 - 1 - 2026\n"
     ]
    }
   ],
   "source": [
    "#wap to get next date of a given date\n",
    "yy=int(input(\"Enter year: \"))\n",
    "mm=int(input(\"Enter month: \"))\n",
    "dd=int(input(\"Enter Date: \"))\n",
    "temp1=str(yy)\n",
    "temp2=str(mm)\n",
    "temp3=str(dd)\n",
    "if len(temp1)>4 and len(temp2)>2 and len(temp3)>2 and mm<=12:\n",
    "    print(\"Enter valid date!\")\n",
    "else:\n",
    "    if dd<=31 and (mm==1 or mm==3 or mm==5 or mm==7 or mm==8 or mm==10 or mm==12):\n",
    "        if dd<=30:\n",
    "            dd=dd+1\n",
    "            print(\"Date: \",dd,\"-\",mm,\"-\",yy)\n",
    "        else:\n",
    "            dd=1\n",
    "            mm=mm+1\n",
    "            if mm>12:\n",
    "                mm=1\n",
    "                yy=yy+1\n",
    "            print(\"Date: \",dd,\"-\",mm,\"-\",yy)\n",
    "    elif dd<=30 and (mm==4 or mm==6 or mm==9 or mm==11):\n",
    "        if dd<=29:\n",
    "            dd=dd+1\n",
    "            print(\"Date: \",dd,\"-\",mm,\"-\",yy)\n",
    "        else:\n",
    "            dd=1\n",
    "            mm=mm+1\n",
    "            if mm>12:\n",
    "                mm=1\n",
    "                yy=yy+1\n",
    "            print(\"Date: \",dd,\"-\",mm,\"-\",yy)\n",
    "    elif dd<=29 and mm==2:\n",
    "        if (yy%400==0 or (yy%100!=0 and yy%4==0)) and dd<=28:\n",
    "            dd=dd+1\n",
    "            print(\"Date: \",dd,\"-\",mm,\"-\",yy)\n",
    "        elif (yy%400==0 or (yy%100!=0 and yy%4==0)) and dd==29:\n",
    "            dd=1\n",
    "            mm=mm+1\n",
    "            if mm>12:\n",
    "                mm=1\n",
    "                yy=yy+1\n",
    "            print(\"Date: \",dd,\"-\",mm,\"-\",yy)\n",
    "        elif dd<=28:\n",
    "            if dd<=27:\n",
    "                dd=dd+1\n",
    "                print(\"Date: \",dd,\"-\",mm,\"-\",yy)\n",
    "            else:\n",
    "                dd=1\n",
    "                mm=mm+1\n",
    "                if mm>12:\n",
    "                    mm=1\n",
    "                    yy=yy+1\n",
    "                print(\"Date: \",dd,\"-\",mm,\"-\",yy)\n",
    "        else:\n",
    "            print(\"not a valid date\") \n",
    "    else:\n",
    "        print(\"Enter a valid data\")\n",
    "            "
   ]
  },
  {
   "cell_type": "code",
   "execution_count": 28,
   "metadata": {},
   "outputs": [
    {
     "name": "stdout",
     "output_type": "stream",
     "text": [
      "Enter a length of the number: 8\n",
      "1 , 1 , 1 , 1 ,\n",
      "4 ,\n",
      "7 ,\n",
      "13 ,\n",
      "25 ,\n"
     ]
    }
   ],
   "source": [
    "#wap to create a squence where the first four member of the sequence are equal to 1 and each successive term of the sequence is equal to the sum of the four prevoius one\n",
    "n=int(input(\"Enter a length of the number: \"))\n",
    "a=1\n",
    "b=1\n",
    "c=1\n",
    "d=1\n",
    "if n==1:\n",
    "    print(a,\",\")\n",
    "elif n==2:\n",
    "    print(a,\",\",b)\n",
    "elif n==3:\n",
    "    print(a,\",\",b,\",\",c)\n",
    "elif n==4:\n",
    "    print(a,\",\",b,\",\",c,\",\",d)\n",
    "else:\n",
    "    print(a,\",\",b,\",\",c,\",\",d,\",\")\n",
    "    for i in range(4,n):\n",
    "        ans=a+b+c+d\n",
    "        print(ans,\",\")\n",
    "        a=b\n",
    "        b=c\n",
    "        c=d\n",
    "        d=ans"
   ]
  },
  {
   "cell_type": "code",
   "execution_count": null,
   "metadata": {},
   "outputs": [],
   "source": []
  }
 ],
 "metadata": {
  "kernelspec": {
   "display_name": "Python 3",
   "language": "python",
   "name": "python3"
  },
  "language_info": {
   "codemirror_mode": {
    "name": "ipython",
    "version": 3
   },
   "file_extension": ".py",
   "mimetype": "text/x-python",
   "name": "python",
   "nbconvert_exporter": "python",
   "pygments_lexer": "ipython3",
   "version": "3.8.5"
  }
 },
 "nbformat": 4,
 "nbformat_minor": 4
}
