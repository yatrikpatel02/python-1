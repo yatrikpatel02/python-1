{
 "cells": [
  {
   "cell_type": "code",
   "execution_count": 2,
   "metadata": {},
   "outputs": [
    {
     "name": "stdout",
     "output_type": "stream",
     "text": [
      "Enter name: yatrik\n",
      "Enter gender(male/female): male\n",
      "Enter age: 19\n",
      "Enter working days: 20\n",
      "total amount =  14000\n"
     ]
    }
   ],
   "source": [
    "#wap to accept the age, gender and number of days and display the wages according to the given table\n",
    "name=input(\"Enter name: \")\n",
    "gender=input(\"Enter gender(male/female): \")\n",
    "age=int(input(\"Enter age: \"))\n",
    "days=int(input(\"Enter working days: \"))\n",
    "amount=0\n",
    "if age>=18 and age<30:\n",
    "    if gender in \"male\":\n",
    "        amount=days*700\n",
    "    else:\n",
    "        amount=days*750\n",
    "    print(\"total amount = \",amount)    \n",
    "elif age>=30 and age<=40:\n",
    "    if gender in \"male\":\n",
    "        amount=days*800\n",
    "    else:\n",
    "        amount=days*850\n",
    "    print(\"total amount = \",amount)    \n",
    "else:\n",
    "    print(\"Enter valid value!\")"
   ]
  },
  {
   "cell_type": "code",
   "execution_count": 9,
   "metadata": {},
   "outputs": [
    {
     "name": "stdout",
     "output_type": "stream",
     "text": [
      "Enter 1st side of triangle: 12\n",
      "Enter 2nd side of triangle: 12\n",
      "Enter 3rd side of triangle: 13\n",
      "It is a isoceles Triangle\n"
     ]
    }
   ],
   "source": [
    "# wap to accept 3 sides of a triangle and check whether it is a eqilateral or isosceles or scalan triangle\n",
    "a=int(input(\"Enter 1st side of triangle: \"))\n",
    "b=int(input(\"Enter 2nd side of triangle: \"))\n",
    "c=int(input(\"Enter 3rd side of triangle: \"))\n",
    "if a==b and a==c:\n",
    "    print(\"It is a eqilateral triangle\")\n",
    "elif a!=b and b!=c and c!=a:\n",
    "    print(\"It is a scalene triangle\")\n",
    "elif a==b!=c or a!=c==b or a!=b==c:\n",
    "    print(\"It is a isoceles Triangle\")\n",
    "else:\n",
    "    print(\"not given Triangle\")"
   ]
  },
  {
   "cell_type": "code",
   "execution_count": 16,
   "metadata": {},
   "outputs": [
    {
     "name": "stdout",
     "output_type": "stream",
     "text": [
      "Enter number: 10\n",
      "55\n"
     ]
    }
   ],
   "source": [
    "#wap to find sum of n numbers given by user\n",
    "a=int(input(\"Enter number: \"))\n",
    "total=0\n",
    "for i in range(a+1):\n",
    "    total=total+i\n",
    "print(total)    "
   ]
  },
  {
   "cell_type": "code",
   "execution_count": 5,
   "metadata": {},
   "outputs": [
    {
     "name": "stdout",
     "output_type": "stream",
     "text": [
      "Enter total no of numbers to enter: 4\n",
      "Enter number: 2\n",
      "Enter number: 4\n",
      "Enter number: 3\n",
      "Enter number: 3\n",
      "avearge is  3.0\n"
     ]
    }
   ],
   "source": [
    "num=int(input(\"Enter total no of numbers to enter: \"))\n",
    "total=0\n",
    "for i in range(num):\n",
    "    num1=int(input(\"Enter number: \"))\n",
    "    total=total+num1\n",
    "avg=total/num    \n",
    "print(\"avearge is \",avg)    "
   ]
  },
  {
   "cell_type": "code",
   "execution_count": 2,
   "metadata": {},
   "outputs": [
    {
     "name": "stdout",
     "output_type": "stream",
     "text": [
      "Enter number: 123\n",
      "6\n"
     ]
    }
   ],
   "source": [
    "#wap to do addition of a number given by user\n",
    "num=int(input(\"Enter number: \"))\n",
    "t=num\n",
    "sum=0\n",
    "while num!=0:\n",
    "    t=num%10\n",
    "    sum=sum+t\n",
    "    num=num//10\n",
    "print(sum)    "
   ]
  },
  {
   "cell_type": "code",
   "execution_count": 4,
   "metadata": {},
   "outputs": [
    {
     "name": "stdout",
     "output_type": "stream",
     "text": [
      "Enter number: 123\n",
      "321\n"
     ]
    }
   ],
   "source": [
    "#wap to reverse a number\n",
    "num=int(input(\"Enter number: \"))\n",
    "t=num\n",
    "sum=0\n",
    "while num!=0:\n",
    "    t=num%10\n",
    "    sum=sum*10+t\n",
    "    num=num//10\n",
    "print(sum)    "
   ]
  },
  {
   "cell_type": "code",
   "execution_count": 5,
   "metadata": {},
   "outputs": [
    {
     "name": "stdout",
     "output_type": "stream",
     "text": [
      "Enter number: 121\n",
      "given number is palindrome\n"
     ]
    }
   ],
   "source": [
    "#wap to reverse a number and check whether it is palindrome or not\n",
    "num=int(input(\"Enter number: \"))\n",
    "temp=num\n",
    "sum=0\n",
    "while num!=0:\n",
    "    t=num%10\n",
    "    sum=sum*10+t\n",
    "    num=num//10\n",
    "if temp==sum:    \n",
    "    print(\"given number is palindrome\")\n",
    "else:\n",
    "    print(\"Not a palindrome\")"
   ]
  },
  {
   "cell_type": "code",
   "execution_count": 1,
   "metadata": {},
   "outputs": [
    {
     "name": "stdout",
     "output_type": "stream",
     "text": [
      "Enter number: 153\n",
      "given number is armstrong\n"
     ]
    }
   ],
   "source": [
    "#wap to check given number is armstrong or not\n",
    "import math\n",
    "num=int(input(\"Enter number: \"))\n",
    "temp=num\n",
    "t1=num\n",
    "sum=0\n",
    "digit=0\n",
    "while t1!=0:\n",
    "    digit=digit+1\n",
    "    t1=t1//10\n",
    "while num!=0:\n",
    "    t=num%10\n",
    "    sum=sum+math.pow(t,digit)\n",
    "    num=num//10\n",
    "if temp==sum:    \n",
    "    print(\"given number is armstrong\")\n",
    "else:\n",
    "    print(\"Not a armstrong\")"
   ]
  },
  {
   "cell_type": "code",
   "execution_count": 11,
   "metadata": {},
   "outputs": [
    {
     "name": "stdout",
     "output_type": "stream",
     "text": [
      "Enter number: 12\n",
      "it is not a prime number\n"
     ]
    }
   ],
   "source": [
    "# wap to check whether given number is prime or not\n",
    "num=int(input(\"Enter number: \"))\n",
    "temp=num\n",
    "count=0\n",
    "for i in range(2,num):\n",
    "    if temp%i==0:\n",
    "        count=count+1\n",
    "        break\n",
    "if count>0:\n",
    "    print(\"it is not a prime number\")\n",
    "else:\n",
    "    print(\"it is a prime number\")"
   ]
  },
  {
   "cell_type": "code",
   "execution_count": 17,
   "metadata": {},
   "outputs": [
    {
     "name": "stdout",
     "output_type": "stream",
     "text": [
      "2\n",
      "3\n",
      "5\n",
      "7\n",
      "11\n",
      "13\n",
      "17\n",
      "19\n",
      "23\n",
      "29\n",
      "31\n",
      "37\n",
      "41\n",
      "43\n",
      "47\n",
      "53\n",
      "59\n",
      "61\n",
      "67\n",
      "71\n",
      "73\n",
      "79\n",
      "83\n",
      "89\n",
      "97\n",
      "total prime numbers :  25\n"
     ]
    }
   ],
   "source": [
    "# wap to check whether given number is prime or not\n",
    "count=0\n",
    "for n in range(2,100):\n",
    "    div=0\n",
    "    for i in range(2,n):\n",
    "        if n%i==0:\n",
    "            div=div+1\n",
    "            break       \n",
    "    if not div:\n",
    "        count+=1\n",
    "        print(n)\n",
    "print(\"total prime numbers : \",count)    "
   ]
  },
  {
   "cell_type": "code",
   "execution_count": 9,
   "metadata": {},
   "outputs": [
    {
     "name": "stdout",
     "output_type": "stream",
     "text": [
      "Enter number: 50\n",
      "not a happy number\n"
     ]
    }
   ],
   "source": [
    "num=int(input(\"Enter number: \"))\n",
    "a=num\n",
    "flag=True\n",
    "while a!=1 and flag:\n",
    "    a=0\n",
    "    while num>0:\n",
    "        a+=(num%10)**2\n",
    "        if num%10==4:\n",
    "            flag=False\n",
    "            break\n",
    "        num=num//10\n",
    "    num=a   \n",
    "if a==1:\n",
    "    print(\"happy number\")\n",
    "else:\n",
    "    print(\"not a happy number\")\n"
   ]
  },
  {
   "cell_type": "code",
   "execution_count": null,
   "metadata": {},
   "outputs": [],
   "source": []
  }
 ],
 "metadata": {
  "kernelspec": {
   "display_name": "Python 3",
   "language": "python",
   "name": "python3"
  },
  "language_info": {
   "codemirror_mode": {
    "name": "ipython",
    "version": 3
   },
   "file_extension": ".py",
   "mimetype": "text/x-python",
   "name": "python",
   "nbconvert_exporter": "python",
   "pygments_lexer": "ipython3",
   "version": "3.8.5"
  }
 },
 "nbformat": 4,
 "nbformat_minor": 4
}
