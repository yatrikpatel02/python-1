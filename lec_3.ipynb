{
 "cells": [
  {
   "cell_type": "markdown",
   "metadata": {},
   "source": [
    "**comparison operators:  >,<,>=,<=,!=,==**"
   ]
  },
  {
   "cell_type": "code",
   "execution_count": 1,
   "metadata": {},
   "outputs": [
    {
     "name": "stdout",
     "output_type": "stream",
     "text": [
      "False\n",
      "True\n",
      "False\n",
      "True\n",
      "False\n",
      "True\n"
     ]
    }
   ],
   "source": [
    "a=10\n",
    "b=20\n",
    "print(a>b)\n",
    "print(a<b)\n",
    "print(a>=b)\n",
    "print(a<=b)\n",
    "print(a==b)\n",
    "print(a!=b)\n"
   ]
  },
  {
   "cell_type": "code",
   "execution_count": 5,
   "metadata": {},
   "outputs": [
    {
     "name": "stdout",
     "output_type": "stream",
     "text": [
      "False\n",
      "True\n",
      "False\n",
      "True\n",
      "False\n",
      "True\n"
     ]
    }
   ],
   "source": [
    "a=\"Arman\"\n",
    "b=\"Aryan\"\n",
    "print(a>b)\n",
    "print(a<b)\n",
    "print(a>=b)\n",
    "print(a<=b)\n",
    "print(a==b)\n",
    "print(a!=b)"
   ]
  },
  {
   "cell_type": "markdown",
   "metadata": {},
   "source": [
    "**logical operators \n",
    "  1   boolean type behaviour\n",
    "  2   non-boolean type behaviour**"
   ]
  },
  {
   "cell_type": "code",
   "execution_count": 10,
   "metadata": {},
   "outputs": [
    {
     "name": "stdout",
     "output_type": "stream",
     "text": [
      "False\n",
      "True\n",
      "False\n",
      "True\n",
      "True\n",
      "False\n",
      "20\n",
      "0\n",
      "10\n",
      "20\n"
     ]
    }
   ],
   "source": [
    "print(True and False)\n",
    "print(True and True)\n",
    "print(False and False)\n",
    "print(True or False)\n",
    "print(True or True)\n",
    "print(False or False)\n",
    "print(10 and 20)\n",
    "print(0 and 20)\n",
    "print(10 or 20)\n",
    "print(0 or 20)"
   ]
  },
  {
   "cell_type": "markdown",
   "metadata": {},
   "source": [
    "**Ternary or conditional operators**"
   ]
  },
  {
   "cell_type": "code",
   "execution_count": 14,
   "metadata": {},
   "outputs": [
    {
     "name": "stdout",
     "output_type": "stream",
     "text": [
      "40\n"
     ]
    }
   ],
   "source": [
    "a=10\n",
    "b=20\n",
    "X=30 if a>b else 40\n",
    "print(X)"
   ]
  },
  {
   "cell_type": "markdown",
   "metadata": {},
   "source": [
    "**assignment operators**"
   ]
  },
  {
   "cell_type": "code",
   "execution_count": 16,
   "metadata": {},
   "outputs": [
    {
     "name": "stdout",
     "output_type": "stream",
     "text": [
      "10\n",
      "20\n",
      "10\n",
      "100\n",
      "10.0\n",
      "1.0\n",
      "1.0\n",
      "1.0\n"
     ]
    }
   ],
   "source": [
    "x=10\n",
    "print(x)\n",
    "x+=10\n",
    "print(x)\n",
    "x-=10\n",
    "print(x)\n",
    "x*=10\n",
    "print(x)\n",
    "x/=10\n",
    "print(x)\n",
    "x//=10\n",
    "print(x)\n",
    "x**=10\n",
    "print(x)\n",
    "x%=10\n",
    "print(x)"
   ]
  },
  {
   "cell_type": "markdown",
   "metadata": {},
   "source": [
    "**Membership operator**"
   ]
  },
  {
   "cell_type": "code",
   "execution_count": 17,
   "metadata": {},
   "outputs": [
    {
     "name": "stdout",
     "output_type": "stream",
     "text": [
      "True\n",
      "True\n",
      "False\n",
      "True\n"
     ]
    }
   ],
   "source": [
    "x=\"Hello learning python is very easy\"\n",
    "print(\"i\" in x)\n",
    "print(\"python\" in x)\n",
    "print(\"d\" in x)\n",
    "print(\"d\" not in x)"
   ]
  },
  {
   "cell_type": "code",
   "execution_count": 19,
   "metadata": {},
   "outputs": [
    {
     "name": "stdout",
     "output_type": "stream",
     "text": [
      "3\n"
     ]
    }
   ],
   "source": [
    "print(7 and 0 or 5 and 3 or 7/0)\n",
    "#print(7 and 0 or 5 and 3 and 7/0) gives error"
   ]
  },
  {
   "cell_type": "code",
   "execution_count": 21,
   "metadata": {},
   "outputs": [
    {
     "name": "stdout",
     "output_type": "stream",
     "text": [
      "True\n"
     ]
    }
   ],
   "source": [
    "# print(5 and False or 3/0) gives error\n",
    "print(5 and True or 3/0)"
   ]
  },
  {
   "cell_type": "code",
   "execution_count": 23,
   "metadata": {},
   "outputs": [
    {
     "name": "stdout",
     "output_type": "stream",
     "text": [
      "False\n"
     ]
    }
   ],
   "source": [
    "print(\"1\" in \"123\" and \"False\" or True)"
   ]
  },
  {
   "cell_type": "code",
   "execution_count": 24,
   "metadata": {},
   "outputs": [
    {
     "name": "stdout",
     "output_type": "stream",
     "text": [
      "0.0\n"
     ]
    }
   ],
   "source": [
    "print(7*5**2/True*False)"
   ]
  },
  {
   "cell_type": "code",
   "execution_count": 25,
   "metadata": {},
   "outputs": [
    {
     "name": "stdout",
     "output_type": "stream",
     "text": [
      "True\n"
     ]
    }
   ],
   "source": [
    "print(5==5.0 or 10 and 5 or 5==5.0 and 7!=7.0)"
   ]
  },
  {
   "cell_type": "code",
   "execution_count": 26,
   "metadata": {},
   "outputs": [
    {
     "name": "stdout",
     "output_type": "stream",
     "text": [
      "7.0\n",
      "5\n"
     ]
    }
   ],
   "source": [
    "a=5\n",
    "p=7\n",
    "a+=p\n",
    "a-=p\n",
    "p*=a\n",
    "p/=a\n",
    "print(p)\n",
    "print(a)"
   ]
  },
  {
   "cell_type": "code",
   "execution_count": 27,
   "metadata": {},
   "outputs": [
    {
     "name": "stdout",
     "output_type": "stream",
     "text": [
      "65 = A\n",
      "66 = B\n",
      "67 = C\n",
      "68 = D\n",
      "69 = E\n",
      "70 = F\n",
      "71 = G\n",
      "72 = H\n",
      "73 = I\n",
      "74 = J\n",
      "75 = K\n",
      "76 = L\n",
      "77 = M\n",
      "78 = N\n",
      "79 = O\n",
      "80 = P\n",
      "81 = Q\n",
      "82 = R\n",
      "83 = S\n",
      "84 = T\n",
      "85 = U\n",
      "86 = V\n",
      "87 = W\n",
      "88 = X\n",
      "89 = Y\n",
      "90 = Z\n"
     ]
    }
   ],
   "source": [
    "for i in range(65,91):\n",
    "    print(i,\"=\",chr(i))"
   ]
  },
  {
   "cell_type": "code",
   "execution_count": 28,
   "metadata": {},
   "outputs": [
    {
     "name": "stdout",
     "output_type": "stream",
     "text": [
      "A\n",
      "B\n",
      "C\n",
      "D\n",
      "E\n",
      "F\n",
      "G\n",
      "H\n",
      "I\n",
      "J\n",
      "K\n",
      "L\n",
      "M\n",
      "N\n",
      "O\n",
      "P\n",
      "Q\n",
      "R\n",
      "S\n",
      "T\n",
      "U\n",
      "V\n",
      "W\n",
      "X\n",
      "Y\n",
      "Z\n"
     ]
    }
   ],
   "source": [
    "for i in range(26):\n",
    "    print(chr(65+i))"
   ]
  },
  {
   "cell_type": "code",
   "execution_count": 32,
   "metadata": {},
   "outputs": [
    {
     "name": "stdout",
     "output_type": "stream",
     "text": [
      "Enter days: 450\n",
      "1 Year\n",
      "2 month\n",
      "25 days\n"
     ]
    }
   ],
   "source": [
    "# write a python program to convert given days into year month and days\n",
    "x=int(input(\"Enter days: \"))\n",
    "print(x//365,\"Year\")\n",
    "print(x%365//30,\"month\")\n",
    "print(x%365%30,\"days\")"
   ]
  },
  {
   "cell_type": "code",
   "execution_count": 41,
   "metadata": {},
   "outputs": [
    {
     "name": "stdout",
     "output_type": "stream",
     "text": [
      "Enter anount: 100001\n",
      "500--->  200\n",
      "200---> 0\n",
      "100---> 0\n",
      "50---> 0\n",
      "20---> 0\n",
      "10---> 0\n",
      "5---> 0\n",
      "2---> 0\n",
      "1---> 1\n"
     ]
    }
   ],
   "source": [
    "a=int(input(\"Enter anount: \"))\n",
    "print(\"500---> \",a//500)\n",
    "print(\"200--->\",a%500//200)\n",
    "print(\"100--->\",a%500%200//100)\n",
    "print(\"50--->\",a%500%200%100//50)\n",
    "print(\"20--->\",a%500%200%100%50//20)\n",
    "print(\"10--->\",a%500%200%100%50%20//10)\n",
    "print(\"5--->\",a%500%200%100%50%20%10//5)\n",
    "print(\"2--->\",a%500%200%100%50%20%10%5//2)\n",
    "print(\"1--->\",a%500%200%100%50%20%10%5%2//1)"
   ]
  },
  {
   "cell_type": "code",
   "execution_count": null,
   "metadata": {},
   "outputs": [],
   "source": []
  }
 ],
 "metadata": {
  "kernelspec": {
   "display_name": "Python 3",
   "language": "python",
   "name": "python3"
  },
  "language_info": {
   "codemirror_mode": {
    "name": "ipython",
    "version": 3
   },
   "file_extension": ".py",
   "mimetype": "text/x-python",
   "name": "python",
   "nbconvert_exporter": "python",
   "pygments_lexer": "ipython3",
   "version": "3.8.5"
  }
 },
 "nbformat": 4,
 "nbformat_minor": 4
}
