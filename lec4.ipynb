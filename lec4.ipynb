{
 "cells": [
  {
   "cell_type": "code",
   "execution_count": 1,
   "metadata": {},
   "outputs": [
    {
     "data": {
      "text/plain": [
       "['__doc__',\n",
       " '__loader__',\n",
       " '__name__',\n",
       " '__package__',\n",
       " '__spec__',\n",
       " 'acos',\n",
       " 'acosh',\n",
       " 'asin',\n",
       " 'asinh',\n",
       " 'atan',\n",
       " 'atan2',\n",
       " 'atanh',\n",
       " 'ceil',\n",
       " 'comb',\n",
       " 'copysign',\n",
       " 'cos',\n",
       " 'cosh',\n",
       " 'degrees',\n",
       " 'dist',\n",
       " 'e',\n",
       " 'erf',\n",
       " 'erfc',\n",
       " 'exp',\n",
       " 'expm1',\n",
       " 'fabs',\n",
       " 'factorial',\n",
       " 'floor',\n",
       " 'fmod',\n",
       " 'frexp',\n",
       " 'fsum',\n",
       " 'gamma',\n",
       " 'gcd',\n",
       " 'hypot',\n",
       " 'inf',\n",
       " 'isclose',\n",
       " 'isfinite',\n",
       " 'isinf',\n",
       " 'isnan',\n",
       " 'isqrt',\n",
       " 'ldexp',\n",
       " 'lgamma',\n",
       " 'log',\n",
       " 'log10',\n",
       " 'log1p',\n",
       " 'log2',\n",
       " 'modf',\n",
       " 'nan',\n",
       " 'perm',\n",
       " 'pi',\n",
       " 'pow',\n",
       " 'prod',\n",
       " 'radians',\n",
       " 'remainder',\n",
       " 'sin',\n",
       " 'sinh',\n",
       " 'sqrt',\n",
       " 'tan',\n",
       " 'tanh',\n",
       " 'tau',\n",
       " 'trunc']"
      ]
     },
     "execution_count": 1,
     "metadata": {},
     "output_type": "execute_result"
    }
   ],
   "source": [
    "import math\n",
    "dir(math)"
   ]
  },
  {
   "cell_type": "code",
   "execution_count": 4,
   "metadata": {},
   "outputs": [
    {
     "name": "stdout",
     "output_type": "stream",
     "text": [
      "3.141592653589793\n",
      "7.0710678118654755\n",
      "120\n"
     ]
    }
   ],
   "source": [
    "print(math.pi)\n",
    "print(math.sqrt(50))\n",
    "print(math.factorial(5))"
   ]
  },
  {
   "cell_type": "code",
   "execution_count": 5,
   "metadata": {},
   "outputs": [
    {
     "name": "stdout",
     "output_type": "stream",
     "text": [
      "4.0\n"
     ]
    }
   ],
   "source": [
    "import math as m\n",
    "print(m.pow(2,2))"
   ]
  },
  {
   "cell_type": "code",
   "execution_count": 6,
   "metadata": {},
   "outputs": [
    {
     "name": "stdout",
     "output_type": "stream",
     "text": [
      "4.0\n"
     ]
    }
   ],
   "source": [
    "from math import *\n",
    "print(sqrt(16))"
   ]
  },
  {
   "cell_type": "code",
   "execution_count": 7,
   "metadata": {},
   "outputs": [
    {
     "data": {
      "text/plain": [
       "<function math.sqrt(x, /)>"
      ]
     },
     "execution_count": 7,
     "metadata": {},
     "output_type": "execute_result"
    }
   ],
   "source": [
    "import math\n",
    "math.sqrt"
   ]
  },
  {
   "cell_type": "code",
   "execution_count": 12,
   "metadata": {},
   "outputs": [
    {
     "name": "stdout",
     "output_type": "stream",
     "text": [
      "enter radius: 2\n",
      "area is: 12.566370614359172\n"
     ]
    }
   ],
   "source": [
    "#write a program to find a area of a circle. radius is to be entered by user\n",
    "import math\n",
    "r=int(input(\"enter radius: \"))\n",
    "a=math.pi*math.pow(r,2)\n",
    "print(\"area is:\",a)"
   ]
  },
  {
   "cell_type": "code",
   "execution_count": 15,
   "metadata": {},
   "outputs": [
    {
     "name": "stdout",
     "output_type": "stream",
     "text": [
      "enter radius of cylinder: 2\n",
      "Enter height of cylinder: 2\n",
      "area of cylinder is : 50.26548245743669\n",
      "volume of cylinder is:  25.132741228718345\n"
     ]
    }
   ],
   "source": [
    "import math\n",
    "r=int(input(\"enter radius of cylinder: \"))\n",
    "h=int(input(\"Enter height of cylinder: \"))\n",
    "a1=((2*math.pi*math.pow(r,2))+(2*math.pi*r*h))\n",
    "a2=math.pi*math.pow(r,2)*h\n",
    "print(\"area of cylinder is :\",a1)\n",
    "print(\"volume of cylinder is: \",a2)"
   ]
  },
  {
   "cell_type": "code",
   "execution_count": 16,
   "metadata": {},
   "outputs": [
    {
     "name": "stdout",
     "output_type": "stream",
     "text": [
      "Enter fareinheit temperature: 98.6\n",
      "celsius temperature is:  37.0\n"
     ]
    }
   ],
   "source": [
    "import math\n",
    "f=float(input(\"Enter fareinheit temperature: \"))\n",
    "c=((f-32)*(5/9))\n",
    "print(\"celsius temperature is: \",c)"
   ]
  },
  {
   "cell_type": "code",
   "execution_count": 17,
   "metadata": {},
   "outputs": [
    {
     "name": "stdout",
     "output_type": "stream",
     "text": [
      "Enter celsius temperature: 37\n",
      "farenheit temperature is:  98.6\n"
     ]
    }
   ],
   "source": [
    "import math\n",
    "c=float(input(\"Enter celsius temperature: \"))\n",
    "f=((9*c)/5)+32\n",
    "print(\"farenheit temperature is: \",f)"
   ]
  },
  {
   "cell_type": "markdown",
   "metadata": {},
   "source": [
    "**unit-2 conditional execution and iteration**"
   ]
  },
  {
   "cell_type": "code",
   "execution_count": 19,
   "metadata": {},
   "outputs": [
    {
     "name": "stdout",
     "output_type": "stream",
     "text": [
      "enter name: Arman\n",
      "Hello mitra\n",
      "byy mitra\n"
     ]
    }
   ],
   "source": [
    "name=input(\"enter name: \")\n",
    "if name==\"Arman\":\n",
    "    print(\"Hello mitra\")\n",
    "print(\"byy mitra\")    "
   ]
  },
  {
   "cell_type": "code",
   "execution_count": 22,
   "metadata": {},
   "outputs": [
    {
     "name": "stdout",
     "output_type": "stream",
     "text": [
      "enter name: arman\n",
      "byy mitra\n",
      "jay mataji\n"
     ]
    }
   ],
   "source": [
    "name=input(\"enter name: \")\n",
    "if name==\"Arman\":\n",
    "    print(\"Hello mitra\")\n",
    "else:    \n",
    "    print(\"byy mitra\")\n",
    "print(\"jay mataji\")    "
   ]
  },
  {
   "cell_type": "code",
   "execution_count": 24,
   "metadata": {},
   "outputs": [
    {
     "name": "stdout",
     "output_type": "stream",
     "text": [
      "enter n1: 1\n",
      "enter n2: 2\n",
      "enter n3: 3\n",
      "biggest num: 3\n"
     ]
    }
   ],
   "source": [
    "n1=int(input(\"enter n1: \"))\n",
    "n2=int(input(\"enter n2: \"))\n",
    "n3=int(input(\"enter n3: \"))\n",
    "if n1>n2 and n1>n3:\n",
    "    print(\"biggest num:\",n1)\n",
    "elif n2>n1 and n2>n3:\n",
    "    print(\"biggest num:\",n2)\n",
    "else:\n",
    "    print(\"biggest num:\",n3)"
   ]
  },
  {
   "cell_type": "code",
   "execution_count": 26,
   "metadata": {},
   "outputs": [
    {
     "name": "stdout",
     "output_type": "stream",
     "text": [
      "Enter number: 15\n",
      "above 10\n",
      "not above 20\n"
     ]
    }
   ],
   "source": [
    "x=int(input(\"Enter number: \"))\n",
    "if x>10:\n",
    "    print(\"above 10\")\n",
    "    if x>20:\n",
    "        print(\"above 20\")\n",
    "    else:\n",
    "        print(\"not above 20\")"
   ]
  },
  {
   "cell_type": "code",
   "execution_count": 29,
   "metadata": {},
   "outputs": [
    {
     "name": "stdout",
     "output_type": "stream",
     "text": [
      "0\n",
      "1\n",
      "2\n",
      "3\n",
      "4\n"
     ]
    }
   ],
   "source": [
    "#loops\n",
    "for i in range(5):\n",
    "    print(i)"
   ]
  },
  {
   "cell_type": "code",
   "execution_count": 33,
   "metadata": {},
   "outputs": [
    {
     "name": "stdout",
     "output_type": "stream",
     "text": [
      "A\n",
      "r\n",
      "m\n",
      "a\n",
      "n\n"
     ]
    }
   ],
   "source": [
    "s=\"Arman\"\n",
    "for i in s:\n",
    "    print(i)"
   ]
  },
  {
   "cell_type": "code",
   "execution_count": 37,
   "metadata": {},
   "outputs": [
    {
     "name": "stdout",
     "output_type": "stream",
     "text": [
      "1\n",
      "2\n",
      "3\n",
      "4\n",
      "5\n",
      "1\n",
      "2\n",
      "3\n",
      "4\n",
      "5\n"
     ]
    }
   ],
   "source": [
    "l=[1,2,3,4,5]\n",
    "for i in l:\n",
    "    print(i)\n",
    "for i in range(len(l)):\n",
    "    print(l[i])"
   ]
  },
  {
   "cell_type": "code",
   "execution_count": 39,
   "metadata": {},
   "outputs": [
    {
     "name": "stdout",
     "output_type": "stream",
     "text": [
      "0\n",
      "1\n",
      "2\n",
      "3\n",
      "4\n"
     ]
    }
   ],
   "source": [
    "i=0\n",
    "while i<5:\n",
    "    print(i)\n",
    "    i+=1"
   ]
  },
  {
   "cell_type": "code",
   "execution_count": 41,
   "metadata": {},
   "outputs": [
    {
     "name": "stdout",
     "output_type": "stream",
     "text": [
      "ENTER NAME: arman\n",
      "ENTER NAME: Arman\n",
      "thanks for confirmation\n"
     ]
    }
   ],
   "source": [
    "name=\"\"\n",
    "while name!=\"Arman\":\n",
    "    name=input(\"ENTER NAME: \")\n",
    "print(\"thanks for confirmation\")    "
   ]
  },
  {
   "cell_type": "code",
   "execution_count": 42,
   "metadata": {},
   "outputs": [
    {
     "name": "stdout",
     "output_type": "stream",
     "text": [
      "0 0\n",
      "0 1\n",
      "0 2\n",
      "1 0\n",
      "1 1\n",
      "1 2\n",
      "2 0\n",
      "2 1\n",
      "2 2\n"
     ]
    }
   ],
   "source": [
    "#nested loops\n",
    "for i in range(3):\n",
    "    for j in range(3):\n",
    "        print(i,j)"
   ]
  },
  {
   "cell_type": "code",
   "execution_count": 47,
   "metadata": {},
   "outputs": [
    {
     "name": "stdout",
     "output_type": "stream",
     "text": [
      "0\n",
      "1\n",
      "2\n",
      "3\n",
      "4\n",
      "5\n",
      "6\n",
      "stop\n"
     ]
    }
   ],
   "source": [
    "#break statement\n",
    "for i in range(10):\n",
    "    if(i==7):\n",
    "        print('stop')\n",
    "        break\n",
    "        print(10)\n",
    "    print(i)    "
   ]
  },
  {
   "cell_type": "code",
   "execution_count": 48,
   "metadata": {},
   "outputs": [
    {
     "name": "stdout",
     "output_type": "stream",
     "text": [
      "1\n",
      "3\n",
      "5\n",
      "7\n",
      "9\n"
     ]
    }
   ],
   "source": [
    "#continue statement\n",
    "for i in range(10):\n",
    "    if i%2==0:\n",
    "        continue\n",
    "    print(i)    "
   ]
  },
  {
   "cell_type": "code",
   "execution_count": 50,
   "metadata": {},
   "outputs": [],
   "source": [
    "#pass statement\n",
    "if True:\n",
    "    pass"
   ]
  },
  {
   "cell_type": "code",
   "execution_count": 56,
   "metadata": {},
   "outputs": [
    {
     "name": "stdout",
     "output_type": "stream",
     "text": [
      "Enter character: a\n",
      "given character is vowel\n"
     ]
    }
   ],
   "source": [
    "#wap to check the given  character is vowel or consonant\n",
    "a=input(\"Enter character: \")\n",
    "if a=='a' or a=='e' or a=='i' or a=='o' or a=='u' or a=='A' or a=='E' or a=='I' or a=='O' or a=='U':\n",
    "    print(\"given character is vowel\")\n",
    "else:\n",
    "    print(\"given character is consonant\")\n",
    "    "
   ]
  },
  {
   "cell_type": "code",
   "execution_count": 66,
   "metadata": {},
   "outputs": [
    {
     "name": "stdout",
     "output_type": "stream",
     "text": [
      "Enter 1st value: 1\n",
      "Enter 2nd value: 2\n",
      "Enter sign: +\n",
      "ans =  3.0\n"
     ]
    }
   ],
   "source": [
    "#wap to build a calculator\n",
    "a=float(input(\"Enter 1st value: \"))\n",
    "b=float(input(\"Enter 2nd value: \"))\n",
    "c=input(\"Enter sign: \")\n",
    "ans=0\n",
    "if c=='+':\n",
    "    ans=a+b\n",
    "elif c=='-':\n",
    "    ans=a-b\n",
    "elif c=='*':\n",
    "    ans=a*b\n",
    "elif c=='/':\n",
    "    ans=a/b\n",
    "elif c=='%':\n",
    "    ans=a%b\n",
    "elif c=='**':\n",
    "    ans=a**b\n",
    "elif c=='//':\n",
    "    ans=a//b\n",
    "else:\n",
    "    print(\"enter valid sign\")\n",
    "print(\"ans = \",ans)    "
   ]
  },
  {
   "cell_type": "code",
   "execution_count": 1,
   "metadata": {},
   "outputs": [
    {
     "name": "stdout",
     "output_type": "stream",
     "text": [
      "Enter unit value: 210\n",
      "600\n"
     ]
    }
   ],
   "source": [
    "#wap to calculate electricity bill 100 unit- no charge,next 100 unti - 5rs per unit, after 200 unit - 10rs per unit\n",
    "un=int(input(\"Enter unit value: \"))\n",
    "charge=0\n",
    "if un<=100:\n",
    "    charge=0\n",
    "elif un<=200:\n",
    "    charge=(un-100)*5\n",
    "elif un>200:\n",
    "    charge= (5*100)+(10*(un-200))\n",
    "else:\n",
    "    print(\"Enter valid value\")\n",
    "print(charge)    "
   ]
  },
  {
   "cell_type": "code",
   "execution_count": 11,
   "metadata": {},
   "outputs": [
    {
     "name": "stdout",
     "output_type": "stream",
     "text": [
      "Enter year: 1900\n",
      "leap year\n"
     ]
    }
   ],
   "source": [
    "#wapp to check given year is leap year or not\n",
    "year=int(input(\"Enter year: \"))\n",
    "if(year%4==0 or year%400==0):\n",
    "    print(\"leap year\")\n",
    "else:\n",
    "    print(\"not a leap year\")"
   ]
  },
  {
   "cell_type": "code",
   "execution_count": 13,
   "metadata": {},
   "outputs": [
    {
     "name": "stdout",
     "output_type": "stream",
     "text": [
      "Enter number: 143\n",
      "divisible by 3\n"
     ]
    }
   ],
   "source": [
    "num=(int(input(\"Enter number: \"))%10)\n",
    "if num%3==0:\n",
    "    print(\"divisible by 3\")\n",
    "else:\n",
    "    print(\"not divisible by 3\")"
   ]
  },
  {
   "cell_type": "code",
   "execution_count": null,
   "metadata": {},
   "outputs": [],
   "source": [
    "a=int(input(\"Enter number: \"))\n",
    "b=a\n",
    "length=0\n",
    "while b!=0:\n",
    "    length+=1\n",
    "    b/=10\n",
    "if length==3:\n",
    "    print((b/10)%10)"
   ]
  }
 ],
 "metadata": {
  "kernelspec": {
   "display_name": "Python 3",
   "language": "python",
   "name": "python3"
  },
  "language_info": {
   "codemirror_mode": {
    "name": "ipython",
    "version": 3
   },
   "file_extension": ".py",
   "mimetype": "text/x-python",
   "name": "python",
   "nbconvert_exporter": "python",
   "pygments_lexer": "ipython3",
   "version": "3.8.5"
  }
 },
 "nbformat": 4,
 "nbformat_minor": 4
}
